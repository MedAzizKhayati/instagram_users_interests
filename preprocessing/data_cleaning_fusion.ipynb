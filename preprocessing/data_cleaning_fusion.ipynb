{
 "cells": [
  {
   "cell_type": "code",
   "execution_count": 57,
   "metadata": {},
   "outputs": [],
   "source": [
    "import pandas as pd\n",
    "import os"
   ]
  },
  {
   "cell_type": "code",
   "execution_count": 63,
   "metadata": {},
   "outputs": [
    {
     "data": {
      "text/html": [
       "<div>\n",
       "<style scoped>\n",
       "    .dataframe tbody tr th:only-of-type {\n",
       "        vertical-align: middle;\n",
       "    }\n",
       "\n",
       "    .dataframe tbody tr th {\n",
       "        vertical-align: top;\n",
       "    }\n",
       "\n",
       "    .dataframe thead th {\n",
       "        text-align: right;\n",
       "    }\n",
       "</style>\n",
       "<table border=\"1\" class=\"dataframe\">\n",
       "  <thead>\n",
       "    <tr style=\"text-align: right;\">\n",
       "      <th></th>\n",
       "      <th>username</th>\n",
       "      <th>id</th>\n",
       "      <th>caption</th>\n",
       "      <th>Fashion and Style</th>\n",
       "      <th>Food and Dining</th>\n",
       "      <th>Family and Relationships</th>\n",
       "      <th>Sports and Fitness</th>\n",
       "      <th>Entertainment</th>\n",
       "      <th>Business and Industry</th>\n",
       "      <th>Travel and Adventure</th>\n",
       "      <th>Arts and Culture</th>\n",
       "      <th>News</th>\n",
       "      <th>Pets</th>\n",
       "      <th>Technology and Gadgets</th>\n",
       "    </tr>\n",
       "  </thead>\n",
       "  <tbody>\n",
       "    <tr>\n",
       "      <th>6482</th>\n",
       "      <td>persources</td>\n",
       "      <td>17952415214475488</td>\n",
       "      <td>what banana boat gang</td>\n",
       "      <td>0</td>\n",
       "      <td>0</td>\n",
       "      <td>0</td>\n",
       "      <td>1</td>\n",
       "      <td>0</td>\n",
       "      <td>0</td>\n",
       "      <td>0</td>\n",
       "      <td>0</td>\n",
       "      <td>0</td>\n",
       "      <td>0</td>\n",
       "      <td>0</td>\n",
       "    </tr>\n",
       "    <tr>\n",
       "      <th>7570</th>\n",
       "      <td>saraauster</td>\n",
       "      <td>17881623752743160</td>\n",
       "      <td>in january 2020 i was invited to set the tone ...</td>\n",
       "      <td>0</td>\n",
       "      <td>0</td>\n",
       "      <td>0</td>\n",
       "      <td>1</td>\n",
       "      <td>0</td>\n",
       "      <td>0</td>\n",
       "      <td>0</td>\n",
       "      <td>0</td>\n",
       "      <td>0</td>\n",
       "      <td>0</td>\n",
       "      <td>0</td>\n",
       "    </tr>\n",
       "    <tr>\n",
       "      <th>4358</th>\n",
       "      <td>_millergrey</td>\n",
       "      <td>18229300537120278</td>\n",
       "      <td>one of my better lockdown 2021 purchases</td>\n",
       "      <td>0</td>\n",
       "      <td>0</td>\n",
       "      <td>1</td>\n",
       "      <td>0</td>\n",
       "      <td>0</td>\n",
       "      <td>0</td>\n",
       "      <td>0</td>\n",
       "      <td>1</td>\n",
       "      <td>0</td>\n",
       "      <td>0</td>\n",
       "      <td>0</td>\n",
       "    </tr>\n",
       "  </tbody>\n",
       "</table>\n",
       "</div>"
      ],
      "text/plain": [
       "         username                 id  \\\n",
       "6482   persources  17952415214475488   \n",
       "7570   saraauster  17881623752743160   \n",
       "4358  _millergrey  18229300537120278   \n",
       "\n",
       "                                                caption  Fashion and Style  \\\n",
       "6482                              what banana boat gang                  0   \n",
       "7570  in january 2020 i was invited to set the tone ...                  0   \n",
       "4358           one of my better lockdown 2021 purchases                  0   \n",
       "\n",
       "      Food and Dining  Family and Relationships  Sports and Fitness  \\\n",
       "6482                0                         0                   1   \n",
       "7570                0                         0                   1   \n",
       "4358                0                         1                   0   \n",
       "\n",
       "      Entertainment  Business and Industry  Travel and Adventure  \\\n",
       "6482              0                      0                     0   \n",
       "7570              0                      0                     0   \n",
       "4358              0                      0                     0   \n",
       "\n",
       "      Arts and Culture  News  Pets  Technology and Gadgets  \n",
       "6482                 0     0     0                       0  \n",
       "7570                 0     0     0                       0  \n",
       "4358                 1     0     0                       0  "
      ]
     },
     "execution_count": 63,
     "metadata": {},
     "output_type": "execute_result"
    }
   ],
   "source": [
    "# Read csv file\n",
    "df = pd.read_csv('../data/cleaned_dataset.csv', sep=',')\n",
    "df['id'] = df['id'].astype(str)\n",
    "df.sample(3)"
   ]
  },
  {
   "cell_type": "code",
   "execution_count": 64,
   "metadata": {},
   "outputs": [
    {
     "name": "stdout",
     "output_type": "stream",
     "text": [
      "Total images: 23749\n"
     ]
    }
   ],
   "source": [
    "# Find all rows where the image is not available, to find the image path it's under folder/username/id.jpg\n",
    "base = '../data/images/'\n",
    "# First we create an array with all the image paths, by mapping the base path with the username and id\n",
    "image_paths = list(map(lambda x: base + x[0] + '/' + str(x[1]) + '.jpg', df[['username', 'id']].values))\n",
    "\n",
    "print('Total images:', len(image_paths))"
   ]
  },
  {
   "cell_type": "code",
   "execution_count": 65,
   "metadata": {},
   "outputs": [
    {
     "name": "stdout",
     "output_type": "stream",
     "text": [
      "Not found: 1519\n"
     ]
    }
   ],
   "source": [
    "# Now we check if the image exists, if not we add the id to a list\n",
    "not_found = []\n",
    "\n",
    "for path in image_paths:\n",
    "    if not os.path.isfile(path):\n",
    "        id = path.split('/')[-1].split('.')[0]\n",
    "        not_found.append(id)\n",
    "\n",
    "print('Not found:', len(not_found))"
   ]
  },
  {
   "cell_type": "code",
   "execution_count": 66,
   "metadata": {},
   "outputs": [
    {
     "data": {
      "text/plain": [
       "(22230, 14)"
      ]
     },
     "execution_count": 66,
     "metadata": {},
     "output_type": "execute_result"
    }
   ],
   "source": [
    "# Now we filter the dataframe to remove the rows where the image is not available\n",
    "df = df[~df['id'].isin(not_found)]\n",
    "df.shape"
   ]
  },
  {
   "cell_type": "code",
   "execution_count": 56,
   "metadata": {},
   "outputs": [],
   "source": [
    "# Now we save the dataframe to a new csv file\n",
    "df.to_csv('../data/fusion_cleaned_dataset.csv', index=False)"
   ]
  }
 ],
 "metadata": {
  "kernelspec": {
   "display_name": "base",
   "language": "python",
   "name": "python3"
  },
  "language_info": {
   "codemirror_mode": {
    "name": "ipython",
    "version": 3
   },
   "file_extension": ".py",
   "mimetype": "text/x-python",
   "name": "python",
   "nbconvert_exporter": "python",
   "pygments_lexer": "ipython3",
   "version": "3.10.10"
  },
  "orig_nbformat": 4
 },
 "nbformat": 4,
 "nbformat_minor": 2
}
