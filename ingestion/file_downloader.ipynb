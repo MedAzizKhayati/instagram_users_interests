{
 "cells": [
  {
   "cell_type": "code",
   "execution_count": 2,
   "metadata": {},
   "outputs": [],
   "source": [
    "import json\n",
    "import cv2\n",
    "import urllib.request\n",
    "import os\n",
    "from tqdm.auto import tqdm\n",
    "from concurrent.futures import ThreadPoolExecutor\n",
    "import requests"
   ]
  },
  {
   "cell_type": "code",
   "execution_count": 2,
   "metadata": {},
   "outputs": [],
   "source": [
    "def read_dataset(filename=\"updated_dataset.json\"):\n",
    "    with open(filename, \"r\") as f:\n",
    "        return json.load(f)\n",
    "\n",
    "\n",
    "def save(dataset, filename=\"updated_dataset.json\"):\n",
    "    with open(filename, \"w\") as f:\n",
    "        json.dump(dataset, f, indent=4)"
   ]
  },
  {
   "cell_type": "code",
   "execution_count": 6,
   "metadata": {},
   "outputs": [],
   "source": [
    "def download_picture_from_url(url, path):\n",
    "    # create path if not exists\n",
    "    if not os.path.exists(os.path.dirname(path)):\n",
    "        os.makedirs(os.path.dirname(path))\n",
    "\n",
    "    urllib.request.urlretrieve(url, path)\n",
    "\n",
    "\n",
    "def download_thumbnail_from_video_url(url, path):\n",
    "    # create path if not exists\n",
    "    if not os.path.exists(os.path.dirname(path)):\n",
    "        os.makedirs(os.path.dirname(path))\n",
    "\n",
    "    # get video\n",
    "    video = cv2.VideoCapture(url)\n",
    "\n",
    "    # get frame\n",
    "    for _ in range(10):\n",
    "        success, image = video.read()\n",
    "\n",
    "    if success:\n",
    "        # save image\n",
    "        cv2.imwrite(path, image)\n"
   ]
  },
  {
   "cell_type": "code",
   "execution_count": 3,
   "metadata": {},
   "outputs": [],
   "source": [
    "url = \"https://drive.google.com/u/1/uc?id=1Zq7nzWhzoJkfQQ2GnbQ_rw5djVfzecAZ&export=download\"\n",
    "response = requests.get(url)\n",
    "\n",
    "with open(\"updated_dataset.json\", \"wb\") as f:\n",
    "    f.write(response.content)"
   ]
  },
  {
   "cell_type": "code",
   "execution_count": 7,
   "metadata": {},
   "outputs": [],
   "source": [
    "dataset = read_dataset()"
   ]
  },
  {
   "cell_type": "code",
   "execution_count": 8,
   "metadata": {},
   "outputs": [
    {
     "data": {
      "application/vnd.jupyter.widget-view+json": {
       "model_id": "73e48394cc5a4ed998ba88f68438d9f1",
       "version_major": 2,
       "version_minor": 0
      },
      "text/plain": [
       "Iterating over accounts:   0%|          | 0/264 [00:00<?, ?it/s]"
      ]
     },
     "metadata": {},
     "output_type": "display_data"
    },
    {
     "data": {
      "application/vnd.jupyter.widget-view+json": {
       "model_id": "969fd34471f64e75b1d0ca2f1bb74013",
       "version_major": 2,
       "version_minor": 0
      },
      "text/plain": [
       "Downloading photos of muradosmann' posts:   0%|          | 0/100 [00:00<?, ?it/s]"
      ]
     },
     "metadata": {},
     "output_type": "display_data"
    },
    {
     "data": {
      "application/vnd.jupyter.widget-view+json": {
       "model_id": "a71ff5d8e1374a12b570134141dc8e93",
       "version_major": 2,
       "version_minor": 0
      },
      "text/plain": [
       "Downloading photos of yamashitaphoto' posts:   0%|          | 0/100 [00:00<?, ?it/s]"
      ]
     },
     "metadata": {},
     "output_type": "display_data"
    },
    {
     "data": {
      "application/vnd.jupyter.widget-view+json": {
       "model_id": "00534e1608d24918848ba20423b50ae5",
       "version_major": 2,
       "version_minor": 0
      },
      "text/plain": [
       "Downloading photos of jimmychin' posts:   0%|          | 0/100 [00:00<?, ?it/s]"
      ]
     },
     "metadata": {},
     "output_type": "display_data"
    },
    {
     "data": {
      "application/vnd.jupyter.widget-view+json": {
       "model_id": "4261ecdcd9ab4bc0ae9810eeb6b7701c",
       "version_major": 2,
       "version_minor": 0
      },
      "text/plain": [
       "Downloading photos of benlowy' posts:   0%|          | 0/100 [00:00<?, ?it/s]"
      ]
     },
     "metadata": {},
     "output_type": "display_data"
    },
    {
     "data": {
      "application/vnd.jupyter.widget-view+json": {
       "model_id": "f149302455ac4235aabb3ab04caeebdc",
       "version_major": 2,
       "version_minor": 0
      },
      "text/plain": [
       "Downloading photos of asasjostromphotography' posts:   0%|          | 0/100 [00:00<?, ?it/s]"
      ]
     },
     "metadata": {},
     "output_type": "display_data"
    },
    {
     "data": {
      "application/vnd.jupyter.widget-view+json": {
       "model_id": "bdbc1bb632454267bdbdb6d706859906",
       "version_major": 2,
       "version_minor": 0
      },
      "text/plain": [
       "Downloading photos of petesouza' posts:   0%|          | 0/100 [00:00<?, ?it/s]"
      ]
     },
     "metadata": {},
     "output_type": "display_data"
    }
   ],
   "source": [
    "n_threads = 6 # Change this to set the number of threads to use\n",
    "executor = ThreadPoolExecutor(max_workers=n_threads)\n",
    "\n",
    "# Create a separate progress bar for the outer loop\n",
    "pbar_outer = tqdm(total=len(dataset), desc=\"Iterating over accounts\")\n",
    "\n",
    "def download_pictures(username, details):\n",
    "    pbar_inner = tqdm(total=len(details['posts']), desc=f\"Downloading photos of {username}' posts\", leave=True)\n",
    "    # n_threads = 16 # Change this to set the number of threads to use\n",
    "    executor = ThreadPoolExecutor()\n",
    "\n",
    "    def job(type, url, path):\n",
    "        if type == 'VIDEO':\n",
    "            download_thumbnail_from_video_url(url, path)\n",
    "        else:\n",
    "            download_picture_from_url(url, path) \n",
    "        pbar_inner.update(1)\n",
    "\n",
    "    for id, post in details['posts'].items():\n",
    "        media_url = post.get('media_url', None)\n",
    "        path = f'images/{username}/{id}.jpg'\n",
    "        if media_url is None:\n",
    "            continue\n",
    "        \n",
    "        executor.submit(job, post['media_type'], media_url, path)\n",
    "\n",
    "    # Wait for all tasks to finish\n",
    "    executor.shutdown()\n",
    "    \n",
    "    while pbar_inner.n < pbar_inner.total:\n",
    "        pbar_inner.update(1)\n",
    "\n",
    "    # finish progress bar\n",
    "    pbar_inner.close()\n",
    "\n",
    "    # Update the outer progress bar after each thread completes\n",
    "    pbar_outer.update(1)\n",
    "\n",
    "# Iterate over the dataset dictionary using a generator expression\n",
    "for i, (username, details) in enumerate(dataset.items()):\n",
    "    # Submit the download_pictures function to the executor\n",
    "    executor.submit(download_pictures, username, details)\n",
    "\n",
    "# Wait for all tasks to finish\n",
    "executor.shutdown()\n",
    "\n",
    "# Close the outer progress bar\n",
    "pbar_outer.close()\n"
   ]
  }
 ],
 "metadata": {
  "kernelspec": {
   "display_name": "Python 3.8 - AzureML",
   "language": "python",
   "name": "python38-azureml"
  },
  "language_info": {
   "codemirror_mode": {
    "name": "ipython",
    "version": 3
   },
   "file_extension": ".py",
   "mimetype": "text/x-python",
   "name": "python",
   "nbconvert_exporter": "python",
   "pygments_lexer": "ipython3",
   "version": "3.8.5"
  },
  "orig_nbformat": 4
 },
 "nbformat": 4,
 "nbformat_minor": 2
}
