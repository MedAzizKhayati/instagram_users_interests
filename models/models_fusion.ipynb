{
 "cells": [
  {
   "attachments": {},
   "cell_type": "markdown",
   "metadata": {},
   "source": [
    "## Ingesting & Environment Setup"
   ]
  },
  {
   "cell_type": "code",
   "execution_count": 5,
   "metadata": {},
   "outputs": [],
   "source": [
    "import pandas as pd"
   ]
  },
  {
   "cell_type": "code",
   "execution_count": 7,
   "metadata": {},
   "outputs": [
    {
     "data": {
      "text/html": [
       "<div>\n",
       "<style scoped>\n",
       "    .dataframe tbody tr th:only-of-type {\n",
       "        vertical-align: middle;\n",
       "    }\n",
       "\n",
       "    .dataframe tbody tr th {\n",
       "        vertical-align: top;\n",
       "    }\n",
       "\n",
       "    .dataframe thead th {\n",
       "        text-align: right;\n",
       "    }\n",
       "</style>\n",
       "<table border=\"1\" class=\"dataframe\">\n",
       "  <thead>\n",
       "    <tr style=\"text-align: right;\">\n",
       "      <th></th>\n",
       "      <th>username</th>\n",
       "      <th>id</th>\n",
       "      <th>caption</th>\n",
       "      <th>Fashion and Style</th>\n",
       "      <th>Food and Dining</th>\n",
       "      <th>Family and Relationships</th>\n",
       "      <th>Sports and Fitness</th>\n",
       "      <th>Entertainment</th>\n",
       "      <th>Business and Industry</th>\n",
       "      <th>Travel and Adventure</th>\n",
       "      <th>Arts and Culture</th>\n",
       "      <th>News</th>\n",
       "      <th>Pets</th>\n",
       "      <th>Technology and Gadgets</th>\n",
       "    </tr>\n",
       "  </thead>\n",
       "  <tbody>\n",
       "    <tr>\n",
       "      <th>5409</th>\n",
       "      <td>houseplantjournal</td>\n",
       "      <td>17968314814781963</td>\n",
       "      <td>new monstera albo leaf glad to see the variega...</td>\n",
       "      <td>0</td>\n",
       "      <td>0</td>\n",
       "      <td>1</td>\n",
       "      <td>0</td>\n",
       "      <td>0</td>\n",
       "      <td>0</td>\n",
       "      <td>0</td>\n",
       "      <td>0</td>\n",
       "      <td>0</td>\n",
       "      <td>0</td>\n",
       "      <td>0</td>\n",
       "    </tr>\n",
       "    <tr>\n",
       "      <th>7252</th>\n",
       "      <td>jimmy_lewin</td>\n",
       "      <td>18038373403268297</td>\n",
       "      <td>and little did i knowwatch until the end the r...</td>\n",
       "      <td>0</td>\n",
       "      <td>0</td>\n",
       "      <td>0</td>\n",
       "      <td>1</td>\n",
       "      <td>0</td>\n",
       "      <td>0</td>\n",
       "      <td>0</td>\n",
       "      <td>0</td>\n",
       "      <td>0</td>\n",
       "      <td>0</td>\n",
       "      <td>1</td>\n",
       "    </tr>\n",
       "    <tr>\n",
       "      <th>413</th>\n",
       "      <td>bluelayneboutique</td>\n",
       "      <td>17963492222170159</td>\n",
       "      <td>like if we are kinda the same</td>\n",
       "      <td>1</td>\n",
       "      <td>0</td>\n",
       "      <td>0</td>\n",
       "      <td>0</td>\n",
       "      <td>0</td>\n",
       "      <td>0</td>\n",
       "      <td>0</td>\n",
       "      <td>0</td>\n",
       "      <td>0</td>\n",
       "      <td>0</td>\n",
       "      <td>0</td>\n",
       "    </tr>\n",
       "  </tbody>\n",
       "</table>\n",
       "</div>"
      ],
      "text/plain": [
       "               username                 id  \\\n",
       "5409  houseplantjournal  17968314814781963   \n",
       "7252        jimmy_lewin  18038373403268297   \n",
       "413   bluelayneboutique  17963492222170159   \n",
       "\n",
       "                                                caption  Fashion and Style  \\\n",
       "5409  new monstera albo leaf glad to see the variega...                  0   \n",
       "7252  and little did i knowwatch until the end the r...                  0   \n",
       "413                       like if we are kinda the same                  1   \n",
       "\n",
       "      Food and Dining  Family and Relationships  Sports and Fitness  \\\n",
       "5409                0                         1                   0   \n",
       "7252                0                         0                   1   \n",
       "413                 0                         0                   0   \n",
       "\n",
       "      Entertainment  Business and Industry  Travel and Adventure  \\\n",
       "5409              0                      0                     0   \n",
       "7252              0                      0                     0   \n",
       "413               0                      0                     0   \n",
       "\n",
       "      Arts and Culture  News  Pets  Technology and Gadgets  \n",
       "5409                 0     0     0                       0  \n",
       "7252                 0     0     0                       1  \n",
       "413                  0     0     0                       0  "
      ]
     },
     "execution_count": 7,
     "metadata": {},
     "output_type": "execute_result"
    }
   ],
   "source": [
    "# Read csv file\n",
    "df = pd.read_csv('cleaned_dataset.csv', sep=',')\n",
    "df.sample(3)"
   ]
  }
 ],
 "metadata": {
  "kernelspec": {
   "display_name": "Python 3.8 - AzureML",
   "language": "python",
   "name": "python38-azureml"
  },
  "language_info": {
   "codemirror_mode": {
    "name": "ipython",
    "version": 3
   },
   "file_extension": ".py",
   "mimetype": "text/x-python",
   "name": "python",
   "nbconvert_exporter": "python",
   "pygments_lexer": "ipython3",
   "version": "3.8.5"
  },
  "orig_nbformat": 4
 },
 "nbformat": 4,
 "nbformat_minor": 2
}
