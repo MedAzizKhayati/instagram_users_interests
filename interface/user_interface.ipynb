{
 "cells": [
  {
   "cell_type": "code",
   "execution_count": 2,
   "metadata": {},
   "outputs": [
    {
     "name": "stderr",
     "output_type": "stream",
     "text": [
      "2023-06-01 18:23:38.997 \n",
      "  \u001b[33m\u001b[1mWarning:\u001b[0m to view this Streamlit app on a browser, run it with the following\n",
      "  command:\n",
      "\n",
      "    streamlit run C:\\Users\\mohamedboutaieb\\AppData\\Roaming\\Python\\Python311\\site-packages\\ipykernel_launcher.py [ARGUMENTS]\n"
     ]
    }
   ],
   "source": [
    "import streamlit as st\n",
    "\n",
    "def main():\n",
    "    # Set page title\n",
    "    st.set_page_config(page_title=\"Streamlit Boilerplate\")\n",
    "\n",
    "    # Render the sidebar\n",
    "    render_sidebar()\n",
    "\n",
    "    # Render the main content\n",
    "    render_content()\n",
    "\n",
    "\n",
    "def render_sidebar():\n",
    "    st.sidebar.title(\"Sidebar\")\n",
    "    # Add sidebar content here\n",
    "\n",
    "\n",
    "def render_content():\n",
    "    st.title(\"Streamlit Boilerplate\")\n",
    "    # Add main content here\n",
    "\n",
    "\n",
    "if __name__ == \"__main__\":\n",
    "    main()\n"
   ]
  }
 ],
 "metadata": {
  "kernelspec": {
   "display_name": "Python 3",
   "language": "python",
   "name": "python3"
  },
  "language_info": {
   "codemirror_mode": {
    "name": "ipython",
    "version": 3
   },
   "file_extension": ".py",
   "mimetype": "text/x-python",
   "name": "python",
   "nbconvert_exporter": "python",
   "pygments_lexer": "ipython3",
   "version": "3.11.3"
  },
  "orig_nbformat": 4
 },
 "nbformat": 4,
 "nbformat_minor": 2
}
